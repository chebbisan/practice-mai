{
 "cells": [
  {
   "cell_type": "code",
   "execution_count": 8,
   "id": "52ec8b8d",
   "metadata": {},
   "outputs": [],
   "source": [
    "from pathlib import Path\n",
    "from python.complex import complex_t\n",
    "from python.util import *\n",
    "import numpy as np\n",
    "import matplotlib.pyplot as plt\n",
    "from scipy import constants"
   ]
  },
  {
   "cell_type": "code",
   "execution_count": 9,
   "id": "996121c6",
   "metadata": {},
   "outputs": [],
   "source": [
    "# Инициализация динамической библиотеки\n",
    "lib_name = \"build/libAntennaArray.so\"\n",
    "c_lib = InitializeLibrary(lib_name)"
   ]
  },
  {
   "cell_type": "code",
   "execution_count": 10,
   "id": "43943f1f",
   "metadata": {},
   "outputs": [],
   "source": [
    "# Инициализация переменных\n",
    "N = 16\n",
    "freq_0 = 3 * 10**9\n",
    "wave_length = (constants.c) / freq_0\n",
    "wave_num = 2 * np.pi / wave_length"
   ]
  },
  {
   "cell_type": "code",
   "execution_count": 11,
   "id": "d04a3aca",
   "metadata": {},
   "outputs": [],
   "source": [
    "# Расчет необходимых данных для расчета\n",
    "theta_range = np.linspace(0, 2*np.pi, 1001)\n",
    "f_arr = [complex_t(1, 0) for _ in theta_range]\n",
    "delta_x = CalculateDeltaX(wave_length, np.pi / 6)\n",
    "L = delta_x * (N - 1)\n",
    "x_arr = np.array([(i * delta_x) - L/2 for i in range(N)])"
   ]
  },
  {
   "cell_type": "code",
   "execution_count": 12,
   "id": "78b5d252",
   "metadata": {},
   "outputs": [],
   "source": [
    "# Конвертация питоновских списков/массивов в C-массив\n",
    "c_theta_range = ListToCDoubleArray(theta_range)\n",
    "c_f_arr = ListToCComplexArray(f_arr)\n",
    "c_x_arr = ListToCDoubleArray(x_arr)"
   ]
  },
  {
   "cell_type": "code",
   "execution_count": 13,
   "id": "b2beedf7",
   "metadata": {},
   "outputs": [],
   "source": [
    "# Расчет диаграммы направленности c динамической библиотекой\n",
    "for _ in range(1000):\n",
    "    abs_rad_pattern = np.zeros_like(theta_range)\n",
    "    radiation_pattern = c_lib.Calculate1DAntennaArray(ct.c_int(N), ct.c_int(\n",
    "        theta_range.size), c_f_arr, c_x_arr, c_theta_range, ct.c_double(wave_num))\n",
    "    for i in range(theta_range.size):\n",
    "        abs_rad_pattern[i] = np.abs(\n",
    "            radiation_pattern[i].real + 1j * radiation_pattern[i].imag)\n",
    "    c_lib.FreeComplexArr(radiation_pattern)"
   ]
  },
  {
   "cell_type": "code",
   "execution_count": 14,
   "id": "87baf7dd",
   "metadata": {},
   "outputs": [],
   "source": [
    "# Расчет диаграммы направленности на питоне\n",
    "for _ in range(1000):\n",
    "    abs_rad_pattern = np.zeros_like(theta_range)\n",
    "    radiation_pattern = Calculate1DAntennaArray(N, f_arr, x_arr, theta_range, wave_num)\n",
    "    for i in range(theta_range.size):\n",
    "        abs_rad_pattern[i] = np.abs(\n",
    "            radiation_pattern[i].real + 1j * radiation_pattern[i].imag)"
   ]
  }
 ],
 "metadata": {
  "kernelspec": {
   "display_name": "Python 3",
   "language": "python",
   "name": "python3"
  },
  "language_info": {
   "codemirror_mode": {
    "name": "ipython",
    "version": 3
   },
   "file_extension": ".py",
   "mimetype": "text/x-python",
   "name": "python",
   "nbconvert_exporter": "python",
   "pygments_lexer": "ipython3",
   "version": "3.12.3"
  }
 },
 "nbformat": 4,
 "nbformat_minor": 5
}
